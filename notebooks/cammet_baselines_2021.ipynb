{
  "nbformat": 4,
  "nbformat_minor": 0,
  "metadata": {
    "colab": {
      "name": "keras_mlp_fcn_resnet_time_series.ipynb",
      "provenance": []
    },
    "kernelspec": {
      "display_name": "Python 3",
      "language": "python",
      "name": "python3"
    },
    "language_info": {
      "codemirror_mode": {
        "name": "ipython",
        "version": 3
      },
      "file_extension": ".py",
      "mimetype": "text/x-python",
      "name": "python",
      "nbconvert_exporter": "python",
      "pygments_lexer": "ipython3",
      "version": "3.8.6"
    }
  },
  "cells": [
    {
      "cell_type": "code",
      "metadata": {
        "colab": {
          "base_uri": "https://localhost:8080/"
        },
        "id": "pf5UZs7JWGxi",
        "outputId": "0a525925-7cca-4d70-d191-a298f218e70a"
      },
      "source": [
        "%matplotlib inline\n",
        "\n",
        "import datetime\n",
        "import numpy as np\n",
        "import pandas as pd\n",
        "import statsmodels.api as sm\n",
        "import matplotlib.pyplot as plt\n",
        "\n",
        "\n",
        "# Reduces variance in results but won't eliminate it :-(\n",
        "%env PYTHONHASHSEED=0\n",
        "import random\n",
        "random.seed(42)\n",
        "np.random.seed(42)"
      ],
      "execution_count": 25,
      "outputs": [
        {
          "output_type": "stream",
          "text": [
            "env: PYTHONHASHSEED=0\n"
          ],
          "name": "stdout"
        }
      ]
    },
    {
      "cell_type": "markdown",
      "metadata": {
        "id": "DyCv2NuFWGxu"
      },
      "source": [
        "# Baseline Forecasts for Cambridge UK Weather Time Series\n",
        "\n",
        "Building baseline models for time series analysis of Cambridge UK temperature measurements taken at the [University computer lab weather station](https://www.cl.cam.ac.uk/research/dtg/weather/).\n",
        "\n",
        "See previous work for further details:\n",
        " * [Cambridge UK temperature forecast python notebooks](https://github.com/makeyourownmaker/CambridgeTemperatureNotebooks)\n",
        " * [Cambridge UK temperature forecast R models](https://github.com/makeyourownmaker/CambridgeTemperatureModel)\n",
        " * [Bayesian optimisation of prophet temperature model](https://github.com/makeyourownmaker/BayesianProphet)\n",
        " * [Cambridge University Computer Laboratory weather station R shiny web app](https://github.com/makeyourownmaker/ComLabWeatherShiny)\n",
        "\n",
        "I'm primarily interested in short term temperature forecasts (less than 2 hours). \n",
        "\n",
        "\n",
        "## Import Data\n",
        "\n",
        "The measurements are quite noisy.\n",
        "Data has been extensively cleaned but may still have issues.  There are currently no missing values.  See the [cleaning section](https://github.com/makeyourownmaker/CambridgeTemperatureModel#Cleaning) in the [Cambridge Temperature Model repository](https://github.com/makeyourownmaker/CambridgeTemperatureModel) for details.  Observations start in August 2008 and end in April 2021 and occur every 30 mins."
      ]
    },
    {
      "cell_type": "code",
      "metadata": {
        "colab": {
          "base_uri": "https://localhost:8080/",
          "height": 1000
        },
        "id": "7FRhZV6QWGxx",
        "outputId": "afea36cf-47e5-4a05-bb5d-e00b19e4b68a"
      },
      "source": [
        "if 'google.colab' in str(get_ipython()):\n",
        "    data_loc = \"https://github.com/makeyourownmaker/CambridgeTemperatureNotebooks/blob/main/data/CamMetCleanish2021.04.22.csv?raw=true\"\n",
        "else:\n",
        "    data_loc = \"../data/CamMetCleanish2021.04.22.csv\"\n",
        "df = pd.read_csv(data_loc, parse_dates = True)\n",
        "\n",
        "df['ds'] = pd.to_datetime(df['ds'])\n",
        "df['y'] = df['y'] / 10\n",
        "df['wind.speed.mean'] = df['wind.speed.mean'] / 10\n",
        "\n",
        "df = df.loc[df['ds'] > '2008-08-01 00:00:00',]\n",
        "\n",
        "print(\"Shape:\")\n",
        "print(df.shape)\n",
        "print(\"\\nInfo:\")\n",
        "print(df.info())\n",
        "print(\"\\nSummary stats:\")\n",
        "display(df.describe())\n",
        "print(\"\\nRaw data:\")\n",
        "display(df)\n",
        "print(\"\\n\")\n",
        "\n",
        "\n",
        "def plot_examples(data, x_var):\n",
        "    \"\"\"Plot 9 sets of observations in 3 * 3 matrix ...\"\"\"\n",
        "\n",
        "    assert len(data) == 9\n",
        "\n",
        "    cols = [col for col in data[0].columns if col != x_var]\n",
        "\n",
        "    fig, axs = plt.subplots(3, 3, figsize = (15, 10))\n",
        "    axs = axs.ravel()  # apl for the win :-)\n",
        "\n",
        "    for i in range(9):\n",
        "      for col in cols:\n",
        "        axs[i].plot(data[i][x_var], data[i][col])\n",
        "        axs[i].xaxis.set_tick_params(rotation = 20, labelsize = 10)\n",
        "    \n",
        "    fig.legend(cols, loc = 'upper center',  ncol = len(cols))\n",
        "    \n",
        "    return None\n",
        "\n",
        "\n",
        "cols = ['ds', 'y', 'humidity', 'dew.point', 'pressure', \n",
        "        'wind.speed.mean', 'wind.bearing.mean']\n",
        "plots  = 9\n",
        "window = 24\n",
        "starts = [random.randint(0, np.floor(df.shape[0] / window)) for _ in range(plots)]\n",
        "p_data = [df.loc[starts[i] * window:starts[i] * window + window, cols] \n",
        "          for i in range(plots)]\n",
        "plot_examples(p_data, 'ds')"
      ],
      "execution_count": 26,
      "outputs": [
        {
          "output_type": "stream",
          "text": [
            "Shape:\n",
            "(220870, 7)\n",
            "\n",
            "Info:\n",
            "<class 'pandas.core.frame.DataFrame'>\n",
            "Int64Index: 220870 entries, 25 to 220894\n",
            "Data columns (total 7 columns):\n",
            " #   Column             Non-Null Count   Dtype         \n",
            "---  ------             --------------   -----         \n",
            " 0   ds                 220870 non-null  datetime64[ns]\n",
            " 1   y                  220870 non-null  float64       \n",
            " 2   humidity           220870 non-null  float64       \n",
            " 3   dew.point          220870 non-null  float64       \n",
            " 4   pressure           220870 non-null  float64       \n",
            " 5   wind.speed.mean    220870 non-null  float64       \n",
            " 6   wind.bearing.mean  220870 non-null  float64       \n",
            "dtypes: datetime64[ns](1), float64(6)\n",
            "memory usage: 13.5 MB\n",
            "None\n",
            "\n",
            "Summary stats:\n"
          ],
          "name": "stdout"
        },
        {
          "output_type": "display_data",
          "data": {
            "text/html": [
              "<div>\n",
              "<style scoped>\n",
              "    .dataframe tbody tr th:only-of-type {\n",
              "        vertical-align: middle;\n",
              "    }\n",
              "\n",
              "    .dataframe tbody tr th {\n",
              "        vertical-align: top;\n",
              "    }\n",
              "\n",
              "    .dataframe thead th {\n",
              "        text-align: right;\n",
              "    }\n",
              "</style>\n",
              "<table border=\"1\" class=\"dataframe\">\n",
              "  <thead>\n",
              "    <tr style=\"text-align: right;\">\n",
              "      <th></th>\n",
              "      <th>y</th>\n",
              "      <th>humidity</th>\n",
              "      <th>dew.point</th>\n",
              "      <th>pressure</th>\n",
              "      <th>wind.speed.mean</th>\n",
              "      <th>wind.bearing.mean</th>\n",
              "    </tr>\n",
              "  </thead>\n",
              "  <tbody>\n",
              "    <tr>\n",
              "      <th>count</th>\n",
              "      <td>220870.000000</td>\n",
              "      <td>220870.000000</td>\n",
              "      <td>220870.000000</td>\n",
              "      <td>220870.000000</td>\n",
              "      <td>220870.000000</td>\n",
              "      <td>220870.000000</td>\n",
              "    </tr>\n",
              "    <tr>\n",
              "      <th>mean</th>\n",
              "      <td>9.979312</td>\n",
              "      <td>78.774243</td>\n",
              "      <td>59.005366</td>\n",
              "      <td>1014.312351</td>\n",
              "      <td>4.449388</td>\n",
              "      <td>195.199793</td>\n",
              "    </tr>\n",
              "    <tr>\n",
              "      <th>std</th>\n",
              "      <td>6.513342</td>\n",
              "      <td>17.261048</td>\n",
              "      <td>51.740239</td>\n",
              "      <td>11.989345</td>\n",
              "      <td>4.030148</td>\n",
              "      <td>83.198700</td>\n",
              "    </tr>\n",
              "    <tr>\n",
              "      <th>min</th>\n",
              "      <td>-7.000000</td>\n",
              "      <td>20.000000</td>\n",
              "      <td>-100.000000</td>\n",
              "      <td>963.000000</td>\n",
              "      <td>0.000000</td>\n",
              "      <td>0.000000</td>\n",
              "    </tr>\n",
              "    <tr>\n",
              "      <th>25%</th>\n",
              "      <td>5.200000</td>\n",
              "      <td>68.000000</td>\n",
              "      <td>20.000000</td>\n",
              "      <td>1007.000000</td>\n",
              "      <td>1.200000</td>\n",
              "      <td>135.000000</td>\n",
              "    </tr>\n",
              "    <tr>\n",
              "      <th>50%</th>\n",
              "      <td>9.600000</td>\n",
              "      <td>83.000000</td>\n",
              "      <td>60.000000</td>\n",
              "      <td>1016.000000</td>\n",
              "      <td>3.500000</td>\n",
              "      <td>225.000000</td>\n",
              "    </tr>\n",
              "    <tr>\n",
              "      <th>75%</th>\n",
              "      <td>14.500000</td>\n",
              "      <td>92.000000</td>\n",
              "      <td>98.000000</td>\n",
              "      <td>1023.000000</td>\n",
              "      <td>6.700000</td>\n",
              "      <td>270.000000</td>\n",
              "    </tr>\n",
              "    <tr>\n",
              "      <th>max</th>\n",
              "      <td>36.100000</td>\n",
              "      <td>100.000000</td>\n",
              "      <td>209.000000</td>\n",
              "      <td>1051.000000</td>\n",
              "      <td>29.200000</td>\n",
              "      <td>360.000000</td>\n",
              "    </tr>\n",
              "  </tbody>\n",
              "</table>\n",
              "</div>"
            ],
            "text/plain": [
              "                   y       humidity  ...  wind.speed.mean  wind.bearing.mean\n",
              "count  220870.000000  220870.000000  ...    220870.000000      220870.000000\n",
              "mean        9.979312      78.774243  ...         4.449388         195.199793\n",
              "std         6.513342      17.261048  ...         4.030148          83.198700\n",
              "min        -7.000000      20.000000  ...         0.000000           0.000000\n",
              "25%         5.200000      68.000000  ...         1.200000         135.000000\n",
              "50%         9.600000      83.000000  ...         3.500000         225.000000\n",
              "75%        14.500000      92.000000  ...         6.700000         270.000000\n",
              "max        36.100000     100.000000  ...        29.200000         360.000000\n",
              "\n",
              "[8 rows x 6 columns]"
            ]
          },
          "metadata": {
            "tags": []
          }
        },
        {
          "output_type": "stream",
          "text": [
            "\n",
            "Raw data:\n"
          ],
          "name": "stdout"
        },
        {
          "output_type": "display_data",
          "data": {
            "text/html": [
              "<div>\n",
              "<style scoped>\n",
              "    .dataframe tbody tr th:only-of-type {\n",
              "        vertical-align: middle;\n",
              "    }\n",
              "\n",
              "    .dataframe tbody tr th {\n",
              "        vertical-align: top;\n",
              "    }\n",
              "\n",
              "    .dataframe thead th {\n",
              "        text-align: right;\n",
              "    }\n",
              "</style>\n",
              "<table border=\"1\" class=\"dataframe\">\n",
              "  <thead>\n",
              "    <tr style=\"text-align: right;\">\n",
              "      <th></th>\n",
              "      <th>ds</th>\n",
              "      <th>y</th>\n",
              "      <th>humidity</th>\n",
              "      <th>dew.point</th>\n",
              "      <th>pressure</th>\n",
              "      <th>wind.speed.mean</th>\n",
              "      <th>wind.bearing.mean</th>\n",
              "    </tr>\n",
              "  </thead>\n",
              "  <tbody>\n",
              "    <tr>\n",
              "      <th>25</th>\n",
              "      <td>2008-08-01 00:30:00</td>\n",
              "      <td>19.5</td>\n",
              "      <td>48.450</td>\n",
              "      <td>77.55</td>\n",
              "      <td>1014.416667</td>\n",
              "      <td>1.150000</td>\n",
              "      <td>225.0</td>\n",
              "    </tr>\n",
              "    <tr>\n",
              "      <th>26</th>\n",
              "      <td>2008-08-01 01:00:00</td>\n",
              "      <td>19.1</td>\n",
              "      <td>59.910</td>\n",
              "      <td>104.75</td>\n",
              "      <td>1014.500000</td>\n",
              "      <td>1.391667</td>\n",
              "      <td>225.0</td>\n",
              "    </tr>\n",
              "    <tr>\n",
              "      <th>27</th>\n",
              "      <td>2008-08-01 01:30:00</td>\n",
              "      <td>19.1</td>\n",
              "      <td>60.180</td>\n",
              "      <td>105.20</td>\n",
              "      <td>1014.500000</td>\n",
              "      <td>1.508333</td>\n",
              "      <td>225.0</td>\n",
              "    </tr>\n",
              "    <tr>\n",
              "      <th>28</th>\n",
              "      <td>2008-08-01 02:00:00</td>\n",
              "      <td>19.1</td>\n",
              "      <td>58.980</td>\n",
              "      <td>87.30</td>\n",
              "      <td>1014.250000</td>\n",
              "      <td>1.333333</td>\n",
              "      <td>225.0</td>\n",
              "    </tr>\n",
              "    <tr>\n",
              "      <th>29</th>\n",
              "      <td>2008-08-01 02:30:00</td>\n",
              "      <td>19.1</td>\n",
              "      <td>53.125</td>\n",
              "      <td>79.35</td>\n",
              "      <td>1014.416667</td>\n",
              "      <td>1.133333</td>\n",
              "      <td>225.0</td>\n",
              "    </tr>\n",
              "    <tr>\n",
              "      <th>...</th>\n",
              "      <td>...</td>\n",
              "      <td>...</td>\n",
              "      <td>...</td>\n",
              "      <td>...</td>\n",
              "      <td>...</td>\n",
              "      <td>...</td>\n",
              "      <td>...</td>\n",
              "    </tr>\n",
              "    <tr>\n",
              "      <th>220890</th>\n",
              "      <td>2021-04-21 23:00:00</td>\n",
              "      <td>1.6</td>\n",
              "      <td>75.000</td>\n",
              "      <td>-23.00</td>\n",
              "      <td>1026.000000</td>\n",
              "      <td>0.000000</td>\n",
              "      <td>45.0</td>\n",
              "    </tr>\n",
              "    <tr>\n",
              "      <th>220891</th>\n",
              "      <td>2021-04-21 23:30:00</td>\n",
              "      <td>1.2</td>\n",
              "      <td>85.000</td>\n",
              "      <td>-10.00</td>\n",
              "      <td>1026.000000</td>\n",
              "      <td>0.000000</td>\n",
              "      <td>45.0</td>\n",
              "    </tr>\n",
              "    <tr>\n",
              "      <th>220892</th>\n",
              "      <td>2021-04-22 00:00:00</td>\n",
              "      <td>0.8</td>\n",
              "      <td>84.000</td>\n",
              "      <td>-16.00</td>\n",
              "      <td>1026.000000</td>\n",
              "      <td>0.100000</td>\n",
              "      <td>45.0</td>\n",
              "    </tr>\n",
              "    <tr>\n",
              "      <th>220893</th>\n",
              "      <td>2021-04-22 00:30:00</td>\n",
              "      <td>0.4</td>\n",
              "      <td>79.000</td>\n",
              "      <td>-28.00</td>\n",
              "      <td>1027.000000</td>\n",
              "      <td>0.400000</td>\n",
              "      <td>45.0</td>\n",
              "    </tr>\n",
              "    <tr>\n",
              "      <th>220894</th>\n",
              "      <td>2021-04-22 01:00:00</td>\n",
              "      <td>0.4</td>\n",
              "      <td>82.000</td>\n",
              "      <td>-23.00</td>\n",
              "      <td>1026.000000</td>\n",
              "      <td>0.000000</td>\n",
              "      <td>45.0</td>\n",
              "    </tr>\n",
              "  </tbody>\n",
              "</table>\n",
              "<p>220870 rows × 7 columns</p>\n",
              "</div>"
            ],
            "text/plain": [
              "                        ds     y  ...  wind.speed.mean  wind.bearing.mean\n",
              "25     2008-08-01 00:30:00  19.5  ...         1.150000              225.0\n",
              "26     2008-08-01 01:00:00  19.1  ...         1.391667              225.0\n",
              "27     2008-08-01 01:30:00  19.1  ...         1.508333              225.0\n",
              "28     2008-08-01 02:00:00  19.1  ...         1.333333              225.0\n",
              "29     2008-08-01 02:30:00  19.1  ...         1.133333              225.0\n",
              "...                    ...   ...  ...              ...                ...\n",
              "220890 2021-04-21 23:00:00   1.6  ...         0.000000               45.0\n",
              "220891 2021-04-21 23:30:00   1.2  ...         0.000000               45.0\n",
              "220892 2021-04-22 00:00:00   0.8  ...         0.100000               45.0\n",
              "220893 2021-04-22 00:30:00   0.4  ...         0.400000               45.0\n",
              "220894 2021-04-22 01:00:00   0.4  ...         0.000000               45.0\n",
              "\n",
              "[220870 rows x 7 columns]"
            ]
          },
          "metadata": {
            "tags": []
          }
        },
        {
          "output_type": "stream",
          "text": [
            "\n",
            "\n"
          ],
          "name": "stdout"
        },
        {
          "output_type": "display_data",
          "data": {
            "image/png": "[encoded data removed]",
            "text/plain": [
              "<Figure size 1080x720 with 9 Axes>"
            ]
          },
          "metadata": {
            "tags": [],
            "needs_background": "light"
          }
        }
      ]
    },
    {
      "cell_type": "markdown",
      "metadata": {
        "id": "Wg7Z2LzpWGxz"
      },
      "source": [
        "\n",
        "\n",
        "---\n",
        "\n",
        "## Data Processing and Feature Engineering\n",
        "\n",
        "The data must be reformatted before model building.\n",
        "\n",
        "The following steps are necessary:\n",
        "\n",
        " * Wind direction and speed transformation\n",
        " * Time conversion\n",
        " * Split data?\n",
        " * Normalise data?\n",
        " * Window data?\n",
        "\n",
        "### Wind direction and speed transformation\n",
        "\n",
        "The wind.bearing.mean column gives wind direction in degrees but is mostly categorised at 45 degree increments, i.e. 0, 45, 90, 135, 180, 225, 270, 315. Wind direction shouldn't matter if the wind is not blowing.\n",
        "\n",
        "The distribution of wind direction and speed looks like this:"
      ]
    },
    {
      "cell_type": "code",
      "metadata": {
        "colab": {
          "base_uri": "https://localhost:8080/",
          "height": 283
        },
        "id": "yzA32Z8IWGxz",
        "outputId": "43d12373-6dc8-4063-8a42-6dd60828ab58"
      },
      "source": [
        "plt.hist2d(df['wind.bearing.mean'], df['wind.speed.mean'], bins = (50, 50), vmax = 400)\n",
        "plt.colorbar()\n",
        "plt.xlabel('Wind Direction - degrees')\n",
        "plt.ylabel('Wind Velocity - Knots');"
      ],
      "execution_count": 27,
      "outputs": [
        {
          "output_type": "display_data",
          "data": {
            "image/png": "[encoded data removed]",
            "text/plain": [
              "<Figure size 432x288 with 2 Axes>"
            ]
          },
          "metadata": {
            "tags": [],
            "needs_background": "light"
          }
        }
      ]
    },
    {
      "cell_type": "markdown",
      "metadata": {
        "id": "sLHKatUhtKpK"
      },
      "source": [
        "Convert wind direction and speed to x and y vectors, so the model can more easily interpret them."
      ]
    },
    {
      "cell_type": "code",
      "metadata": {
        "id": "WEHPLQZVtNNG",
        "outputId": "f2860bd1-4695-4d46-f2f3-f56b41d381ff",
        "colab": {
          "base_uri": "https://localhost:8080/",
          "height": 295
        }
      },
      "source": [
        "wv = df['wind.speed.mean']\n",
        "\n",
        "# Convert to radians\n",
        "wd_rad = df['wind.bearing.mean'] * np.pi / 180\n",
        "\n",
        "# Calculate the wind x and y components\n",
        "df['wind.x'] = wv * np.cos(wd_rad)\n",
        "df['wind.y'] = wv * np.sin(wd_rad)\n",
        "\n",
        "df_orig = df\n",
        "\n",
        "plt.hist2d(df['wind.x'], df['wind.y'], bins = (50, 50), vmax = 400)\n",
        "plt.colorbar()\n",
        "plt.xlabel('Wind X - Knots')\n",
        "plt.ylabel('Wind Y - Knots')\n",
        "plt.title('Wind velocity');"
      ],
      "execution_count": 28,
      "outputs": [
        {
          "output_type": "display_data",
          "data": {
            "image/png": "[encoded data removed]",
            "text/plain": [
              "<Figure size 432x288 with 2 Axes>"
            ]
          },
          "metadata": {
            "tags": [],
            "needs_background": "light"
          }
        }
      ]
    },
    {
      "cell_type": "markdown",
      "metadata": {
        "id": "otQjeUaXtz24"
      },
      "source": [
        "\n",
        "Better, but not ideal. Data augmentation with the [mixup](https://arxiv.org/abs/1710.09412) method is carried out at batch preparation time below.\n",
        "\n",
        "From the paper: \"mixup trains a neural network on convex combinations of pairs of examples and their labels\".\n",
        "\n",
        "Further details on how I apply mixup to time series are included in the Window data section of the [keras_mlp_fcn_resnet_time_series.ipynb notebook](https://github.com/makeyourownmaker/CambridgeTemperatureNotebooks/blob/main/notebooks/keras_mlp_fcn_resnet_time_series.ipynb).\n",
        "\n",
        "Here is an illustration of the improvement in wind velocity with mixup augmentation."
      ]
    },
    {
      "cell_type": "code",
      "metadata": {
        "id": "P3y1zVr3t63B",
        "outputId": "358bbea7-7d2b-4f41-8668-2d54bf169162",
        "colab": {
          "base_uri": "https://localhost:8080/",
          "height": 295
        }
      },
      "source": [
        "def mixup(data, alpha = 1.0, factor = 1):\n",
        "    batch_size = len(data) - 1\n",
        "    \n",
        "    data['epoch'] = data.index.astype(np.int64) // 10**9\n",
        "    \n",
        "    # random sample lambda value from beta distribution\n",
        "    l   = np.random.beta(alpha, alpha, batch_size * factor)\n",
        "    X_l = l.reshape(batch_size * factor, 1)\n",
        "    \n",
        "    # Get a pair of inputs and outputs\n",
        "    y1  = data['y'].shift(-1).dropna()\n",
        "    y1_ = pd.concat([y1] * factor)\n",
        "    \n",
        "    y2  = data['y'][0:batch_size]\n",
        "    y2_ = pd.concat([y2] * factor)\n",
        "\n",
        "    X1  = data.drop('y', 1).shift(-1).dropna()\n",
        "    X1_ = pd.concat([X1] * factor)\n",
        "    \n",
        "    X2  = data.drop('y', 1)\n",
        "    X2  = X2[0:batch_size]\n",
        "    X2_ = pd.concat([X2] * factor)\n",
        "\n",
        "    # Perform mixup\n",
        "    X = X1_ * X_l + X2_ * (1 - X_l)\n",
        "    y = y1_ * l   + y2_ * (1 - l)    \n",
        "    \n",
        "    df = pd.DataFrame(y).join(X)    \n",
        "    df = data.append(df).sort_values('epoch', ascending = True)\n",
        "    df = df.drop('epoch', 1)\n",
        "    \n",
        "    df = df.drop_duplicates(keep = False)\n",
        "    \n",
        "    return df\n",
        "\n",
        "\n",
        "df_mix = mixup(df.loc[:, ['y','wind.x','wind.y']], factor = 2)\n",
        "plt.hist2d(df_mix['wind.x'], df_mix['wind.y'], bins = (50, 50), vmax = 400)\n",
        "plt.colorbar()\n",
        "plt.xlabel('Wind X - Knots')\n",
        "plt.ylabel('Wind Y - Knots')\n",
        "plt.title('Wind velocity with mixup data augmentation');"
      ],
      "execution_count": 29,
      "outputs": [
        {
          "output_type": "display_data",
          "data": {
            "image/png": "[encoded data removed]",
            "text/plain": [
              "<Figure size 432x288 with 2 Axes>"
            ]
          },
          "metadata": {
            "tags": [],
            "needs_background": "light"
          }
        }
      ]
    },
    {
      "cell_type": "markdown",
      "metadata": {
        "id": "NNwPYBmfuRHR"
      },
      "source": [
        "Mixup improves the categorical legacy of the wind velocity data. Unfortunately, if outliers are present their influence will be reinforced.\n",
        "\n",
        "---\n",
        "\n",
        "### Time conversion\n",
        "\n",
        "Convert `ds` timestamps to \"time of day\" and \"time of year\" variables using `sin` and `cos`."
      ]
    },
    {
      "cell_type": "code",
      "metadata": {
        "id": "He-l1t4ovAM9",
        "outputId": "d388e44a-7ace-480f-cd8e-cd616dec8c28",
        "colab": {
          "base_uri": "https://localhost:8080/",
          "height": 295
        }
      },
      "source": [
        "# Convert to secs\n",
        "date_time   = pd.to_datetime(df['ds'], format = '%Y.%m.%d %H:%M:%S')\n",
        "timestamp_s = date_time.map(datetime.datetime.timestamp)\n",
        "\n",
        "day  = 24 * 60 * 60\n",
        "year = (365.2425) * day\n",
        "\n",
        "df['day.sin']  = np.sin(timestamp_s * (2 * np.pi / day))\n",
        "df['day.cos']  = np.cos(timestamp_s * (2 * np.pi / day))\n",
        "df['year.sin'] = np.sin(timestamp_s * (2 * np.pi / year))\n",
        "df['year.cos'] = np.cos(timestamp_s * (2 * np.pi / year))\n",
        "\n",
        "plt.plot(np.array(df['day.sin'])[:49])\n",
        "plt.plot(np.array(df['day.cos'])[:49])\n",
        "plt.xlabel('Time')\n",
        "plt.legend(['sin', 'cos'], loc = 'lower right')\n",
        "plt.title('Time of day signal');"
      ],
      "execution_count": 30,
      "outputs": [
        {
          "output_type": "display_data",
          "data": {
            "image/png": "[encoded data removed]",
            "text/plain": [
              "<Figure size 432x288 with 1 Axes>"
            ]
          },
          "metadata": {
            "tags": [],
            "needs_background": "light"
          }
        }
      ]
    },
    {
      "cell_type": "markdown",
      "metadata": {
        "id": "-2LPctl2vAyG"
      },
      "source": [
        "---\n",
        "\n",
        "### Split data¶\n",
        "\n",
        "Use data from 2018 for validation and 2019 for testing. These are entirely arbitrary choices. This results in an approximate 84%, 8%, 8% split for the training, validation, and test sets."
      ]
    },
    {
      "cell_type": "code",
      "metadata": {
        "id": "UTpDIhBUPSOQ",
        "outputId": "f080e469-0308-4749-bc8f-e9186e4d453f",
        "colab": {
          "base_uri": "https://localhost:8080/"
        }
      },
      "source": [
        "keep_cols = ['y', 'humidity', 'dew.point', 'pressure', 'wind.x', 'wind.y',\n",
        "             'day.sin', 'day.cos', 'year.sin', 'year.cos', 'ds']\n",
        "\n",
        "df['year'] = df['ds'].dt.year\n",
        "train_df = df.loc[(df['year'] != 2018) & (df['year'] != 2019)]\n",
        "valid_df = df.loc[df['year'] == 2018]\n",
        "test_df  = df.loc[df['year'] == 2019]\n",
        "\n",
        "train_df = train_df.drop('year', axis = 1)  # inplace = True gives SettingWithCopyWarning\n",
        "valid_df = valid_df.drop('year', axis = 1)  # ...\n",
        "test_df  = test_df.drop('year',  axis = 1)\n",
        "df       = df.drop('year',       axis = 1)\n",
        "\n",
        "print(\"df.drop shape: \", df.shape)\n",
        "print(\"train shape:   \", train_df.shape)\n",
        "print(\"valid shape:   \", valid_df.shape)\n",
        "print(\"test shape:    \", test_df.shape)"
      ],
      "execution_count": 33,
      "outputs": [
        {
          "output_type": "stream",
          "text": [
            "df.drop shape:  (220870, 13)\n",
            "train shape:    (186115, 13)\n",
            "valid shape:    (17305, 13)\n",
            "test shape:     (17450, 13)\n"
          ],
          "name": "stdout"
        }
      ]
    },
    {
      "cell_type": "markdown",
      "metadata": {
        "id": "WIvWgsTdRf3S"
      },
      "source": [
        "---\n",
        "\n",
        "## Baselines Methods\n",
        "\n",
        "Which baseline methods:\n",
        " * mean\n",
        " * naive (persistent)\n",
        " * historical average\n",
        " * SES\n",
        " * HWES\n",
        "\n",
        "...\n",
        "\n",
        "Forecast horizons:\n",
        "  * next 30 mins\n",
        "  * next 2 hours\n",
        "  * next 24 hours\n",
        "\n",
        "...\n",
        "\n",
        "Metrics:\n",
        " * rmse\n",
        " * mae\n",
        " * mape\n",
        "\n",
        "..."
      ]
    },
    {
      "cell_type": "code",
      "metadata": {
        "id": "tA8KYLltR5hF"
      },
      "source": [
        ""
      ],
      "execution_count": null,
      "outputs": []
    },
    {
      "cell_type": "markdown",
      "metadata": {
        "id": "9Ax_DlA4WGyB"
      },
      "source": [
        "\n",
        "From the plots, its worth noting:\n",
        " * ...\n",
        "\n",
        "\n",
        "---\n",
        "\n",
        "\n",
        "## Conclusion\n",
        "\n",
        "Fortunately ...\n",
        "\n",
        "On an unrelated matter ...\n",
        "\n",
        "Future work:\n",
        " * ..."
      ]
    },
    {
      "cell_type": "markdown",
      "metadata": {
        "id": "_oSbcHtRWGyB"
      },
      "source": [
        "---\n",
        "\n",
        "## Metadata\n",
        "\n",
        "Python and Jupyter versions plus modules imported and their version strings. \n",
        "This is the poor man's python equivalent of R's sessionInfo().\n",
        "\n",
        "Code for imported modules and versions adapted from this stackoverflow answer. \n",
        "There are simpler alternatives, such as watermark, but they all require installation."
      ]
    },
    {
      "cell_type": "code",
      "metadata": {
        "id": "YI4Y0ramWGyC",
        "outputId": "4d6e1d60-b0b1-48ae-c543-67070d34c5ba",
        "colab": {
          "base_uri": "https://localhost:8080/"
        }
      },
      "source": [
        "import sys\n",
        "import IPython\n",
        "\n",
        "print(\"Python version:\")\n",
        "print(sys.executable)\n",
        "print(sys.version)\n",
        "print(\"\\nIPython version:\")\n",
        "print(IPython.__version__)"
      ],
      "execution_count": 34,
      "outputs": [
        {
          "output_type": "stream",
          "text": [
            "Python version:\n",
            "/usr/bin/python3\n",
            "3.7.10 (default, Feb 20 2021, 21:17:23) \n",
            "[GCC 7.5.0]\n",
            "\n",
            "IPython version:\n",
            "5.5.0\n"
          ],
          "name": "stdout"
        }
      ]
    },
    {
      "cell_type": "code",
      "metadata": {
        "id": "sqT2k2JNWGyC",
        "outputId": "2d93dde9-5a16-46de-eb01-c7bbf0ff5f44",
        "colab": {
          "base_uri": "https://localhost:8080/",
          "height": 141
        }
      },
      "source": [
        "import pkg_resources\n",
        "import types\n",
        "\n",
        "def get_imports():\n",
        "    for name, val in globals().items():\n",
        "        if isinstance(val, types.ModuleType):\n",
        "            # Split ensures you get root package, \n",
        "            # not just imported function\n",
        "            name = val.__name__.split(\".\")[0]\n",
        "\n",
        "        elif isinstance(val, type):\n",
        "            name = val.__module__.split(\".\")[0]\n",
        "\n",
        "        # Some packages are weird and have different\n",
        "        # imported names vs. system/pip names.  Unfortunately,\n",
        "        # there is no systematic way to get pip names from\n",
        "        # a package's imported name.  You'll have to add\n",
        "        # exceptions to this list manually!\n",
        "        poorly_named_packages = {\n",
        "            \"PIL\":       \"Pillow\",\n",
        "            \"sklearn\":   \"scikit-learn\",\n",
        "        }\n",
        "        if name in poorly_named_packages.keys():\n",
        "            name = poorly_named_packages[name]\n",
        "\n",
        "        yield name\n",
        "\n",
        "imports = list(set(get_imports()))\n",
        "\n",
        "# The only way I found to get the version of the root package\n",
        "# from only the name of the package is to cross-check the names \n",
        "# of installed packages vs. imported packages\n",
        "requirements = []\n",
        "for m in pkg_resources.working_set:\n",
        "    if m.project_name in imports and m.project_name != \"pip\":\n",
        "        requirements.append((m.project_name, m.version))\n",
        "\n",
        "reqs = pd.DataFrame(requirements, columns = ['name', 'version'])\n",
        "print(\"Imported modules:\")\n",
        "reqs.style.hide_index()"
      ],
      "execution_count": 35,
      "outputs": [
        {
          "output_type": "stream",
          "text": [
            "Imported modules:\n"
          ],
          "name": "stdout"
        },
        {
          "output_type": "execute_result",
          "data": {
            "text/html": [
              "<style  type=\"text/css\" >\n",
              "</style><table id=\"T_b2bdfa70_a3ac_11eb_91c4_0242ac1c0002\" ><thead>    <tr>        <th class=\"col_heading level0 col0\" >name</th>        <th class=\"col_heading level0 col1\" >version</th>    </tr></thead><tbody>\n",
              "                <tr>\n",
              "                                <td id=\"T_b2bdfa70_a3ac_11eb_91c4_0242ac1c0002row0_col0\" class=\"data row0 col0\" >statsmodels</td>\n",
              "                        <td id=\"T_b2bdfa70_a3ac_11eb_91c4_0242ac1c0002row0_col1\" class=\"data row0 col1\" >0.10.2</td>\n",
              "            </tr>\n",
              "            <tr>\n",
              "                                <td id=\"T_b2bdfa70_a3ac_11eb_91c4_0242ac1c0002row1_col0\" class=\"data row1 col0\" >pandas</td>\n",
              "                        <td id=\"T_b2bdfa70_a3ac_11eb_91c4_0242ac1c0002row1_col1\" class=\"data row1 col1\" >1.1.5</td>\n",
              "            </tr>\n",
              "            <tr>\n",
              "                                <td id=\"T_b2bdfa70_a3ac_11eb_91c4_0242ac1c0002row2_col0\" class=\"data row2 col0\" >numpy</td>\n",
              "                        <td id=\"T_b2bdfa70_a3ac_11eb_91c4_0242ac1c0002row2_col1\" class=\"data row2 col1\" >1.19.5</td>\n",
              "            </tr>\n",
              "            <tr>\n",
              "                                <td id=\"T_b2bdfa70_a3ac_11eb_91c4_0242ac1c0002row3_col0\" class=\"data row3 col0\" >matplotlib</td>\n",
              "                        <td id=\"T_b2bdfa70_a3ac_11eb_91c4_0242ac1c0002row3_col1\" class=\"data row3 col1\" >3.2.2</td>\n",
              "            </tr>\n",
              "    </tbody></table>"
            ],
            "text/plain": [
              "<pandas.io.formats.style.Styler at 0x7fb7f7003750>"
            ]
          },
          "metadata": {
            "tags": []
          },
          "execution_count": 35
        }
      ]
    },
    {
      "cell_type": "code",
      "metadata": {
        "id": "YBgujFalWGyD",
        "outputId": "1ae38021-7245-4a6a-bffb-08c347efa69f",
        "colab": {
          "base_uri": "https://localhost:8080/"
        }
      },
      "source": [
        "!date"
      ],
      "execution_count": 36,
      "outputs": [
        {
          "output_type": "stream",
          "text": [
            "Thu Apr 22 20:52:55 UTC 2021\n"
          ],
          "name": "stdout"
        }
      ]
    },
    {
      "cell_type": "markdown",
      "metadata": {
        "id": "xWXBP3PzWGyD"
      },
      "source": [
        "---\n",
        "\n",
        "\n",
        "## Archival\n",
        "\n",
        "Archive code, markdown, history and formatted notebooks.\n",
        "\n",
        "Assumes all pdf, html, latex etc dependencies are installed.\n",
        "\n",
        "**WARNING** Will overwrite existing files.\n",
        "\n",
        "Notebook name is hardcoded below because the alternative is ghastly globs of unreliable javascript or external ipython libraries I'd prefer to avoid installing :-("
      ]
    },
    {
      "cell_type": "code",
      "metadata": {
        "id": "UcGuysl1WGyE"
      },
      "source": [
        "from time import sleep\n",
        "\n",
        "notebook = \"cammet_baselines_2021.ipynb\"\n",
        "# !jupyter nbconvert --to script {notebook}\n",
        "# !jupyter nbconvert --execute --to html {notebook}\n",
        "# !jupyter nbconvert --execute --to pdf {notebook}\n",
        "# !jupyter nbconvert --to pdf {notebook}\n",
        "\n",
        "%rm history.txt\n",
        "%history -f history.txt\n",
        "\n",
        "!jupyter nbconvert --to python {notebook}\n",
        "sleep(5)\n",
        "!jupyter nbconvert --to markdown {notebook}\n",
        "sleep(5)\n",
        "!jupyter nbconvert --to html {notebook}"
      ],
      "execution_count": null,
      "outputs": []
    }
  ]
}